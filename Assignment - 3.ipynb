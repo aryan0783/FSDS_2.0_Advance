{
 "cells": [
  {
   "cell_type": "markdown",
   "id": "9576513b",
   "metadata": {},
   "source": [
    "### 1. What is the concept of an abstract superclass?"
   ]
  },
  {
   "cell_type": "markdown",
   "id": "363d9f9b",
   "metadata": {},
   "source": [
    "- an abstract superclass can be considered as a blueprint for other class."
   ]
  },
  {
   "cell_type": "code",
   "execution_count": 1,
   "id": "5053f902",
   "metadata": {},
   "outputs": [],
   "source": [
    "# eg :\n",
    "\n",
    "class Shapes:\n",
    "    \n",
    "    def area(self):\n",
    "        pass\n",
    "    \n",
    "class Triangles(Shapes):\n",
    "    \n",
    "    def area(self,b,h):\n",
    "        return {0.5 * b * h}"
   ]
  },
  {
   "cell_type": "markdown",
   "id": "a04cc127",
   "metadata": {},
   "source": [
    "### 2. What happens when a class statement&#39;s top level contains a basic assignment statement?"
   ]
  },
  {
   "cell_type": "markdown",
   "id": "39e536f2",
   "metadata": {},
   "source": [
    "- In this case, value is assigned to the variable which can be changed in the program."
   ]
  },
  {
   "cell_type": "code",
   "execution_count": 76,
   "id": "bdfe1f9e",
   "metadata": {},
   "outputs": [
    {
     "name": "stdout",
     "output_type": "stream",
     "text": [
      "67\n",
      "56\n"
     ]
    }
   ],
   "source": [
    "print(x)\n",
    "x = 56\n",
    "print(x)\n",
    "\n",
    "if __name__ == '__main__':\n",
    "    x = 67"
   ]
  },
  {
   "cell_type": "markdown",
   "id": "7d3462ba",
   "metadata": {},
   "source": [
    "### 3. Why does a class need to manually call a superclass&#39;s __init__ method?"
   ]
  },
  {
   "cell_type": "markdown",
   "id": "3aed0435",
   "metadata": {},
   "source": [
    "- it has to call the super() to call the superclass's init method."
   ]
  },
  {
   "cell_type": "code",
   "execution_count": 23,
   "id": "a7bbe23a",
   "metadata": {},
   "outputs": [],
   "source": [
    "# eg :\n",
    "\n",
    "class Person:\n",
    "    \n",
    "    def __init__(self,name,age):\n",
    "        self.name = name\n",
    "        self.age = age\n",
    "        \n",
    "class Student(Person):\n",
    "    \n",
    "    def __init__(self,name,age):\n",
    "        super().__init__(name,age)"
   ]
  },
  {
   "cell_type": "code",
   "execution_count": 24,
   "id": "c41550cf",
   "metadata": {},
   "outputs": [],
   "source": [
    "student1 = Student('Aryan',23)"
   ]
  },
  {
   "cell_type": "markdown",
   "id": "57c52e45",
   "metadata": {},
   "source": [
    "### 4. How can you augment, instead of completely replacing, an inherited method?"
   ]
  },
  {
   "cell_type": "markdown",
   "id": "88782703",
   "metadata": {},
   "source": [
    "- in this case method over riding can be implemented"
   ]
  },
  {
   "cell_type": "code",
   "execution_count": 25,
   "id": "ee7a8680",
   "metadata": {},
   "outputs": [],
   "source": [
    "# eg :\n",
    "\n",
    "class Animal:\n",
    "    \n",
    "    def feature(self):\n",
    "        \n",
    "        return 'Animal walks!'\n",
    "    \n",
    "class Dog(Animal):\n",
    "    \n",
    "    # extended the meaning of feature method :\n",
    "    def feature(self):\n",
    "        \n",
    "        return 'Animal barks and walks!'"
   ]
  },
  {
   "cell_type": "markdown",
   "id": "a04298fd",
   "metadata": {},
   "source": [
    "### 5. How is the local scope of a class different from that of a function?"
   ]
  },
  {
   "cell_type": "markdown",
   "id": "6931cb0c",
   "metadata": {},
   "source": [
    "- in function scope of same name variable is different in case of nested function. They all are no same.\n",
    "\n",
    "<br>\n",
    "\n",
    "- in class the value of class attribute can be changed by the class method by the object of the class"
   ]
  },
  {
   "cell_type": "code",
   "execution_count": 44,
   "id": "0edbbc61",
   "metadata": {},
   "outputs": [
    {
     "name": "stdout",
     "output_type": "stream",
     "text": [
      "78\n"
     ]
    }
   ],
   "source": [
    "def func():\n",
    "    \n",
    "    x = 5\n",
    "    \n",
    "    def func1():\n",
    "        \n",
    "        nonlocal x\n",
    "        x = 78\n",
    "        \n",
    "    func1()\n",
    "    print(x)\n",
    "    \n",
    "func()"
   ]
  },
  {
   "cell_type": "code",
   "execution_count": 45,
   "id": "64ed562d",
   "metadata": {},
   "outputs": [
    {
     "name": "stdout",
     "output_type": "stream",
     "text": [
      "5\n"
     ]
    }
   ],
   "source": [
    "def func():\n",
    "    \n",
    "    x = 5\n",
    "    \n",
    "    def func1():\n",
    "        \n",
    "#         nonlocal x\n",
    "        x = 78\n",
    "        \n",
    "    func1()\n",
    "    print(x)\n",
    "    \n",
    "func()"
   ]
  },
  {
   "cell_type": "code",
   "execution_count": 61,
   "id": "bf3309a3",
   "metadata": {},
   "outputs": [],
   "source": [
    "class Person:\n",
    "    \n",
    "    gender = 'male'\n",
    "    \n",
    "    def gender_of_person(self):\n",
    "        \n",
    "        self.gender = 'female'\n",
    "        \n",
    "        return self.gender"
   ]
  },
  {
   "cell_type": "code",
   "execution_count": 64,
   "id": "30bc1ddd",
   "metadata": {},
   "outputs": [
    {
     "name": "stdout",
     "output_type": "stream",
     "text": [
      "female\n",
      "female\n"
     ]
    }
   ],
   "source": [
    "p1 = Person()\n",
    "print(p1.gender_of_person())\n",
    "print(p1.gender)"
   ]
  }
 ],
 "metadata": {
  "kernelspec": {
   "display_name": "Python 3",
   "language": "python",
   "name": "python3"
  },
  "language_info": {
   "codemirror_mode": {
    "name": "ipython",
    "version": 3
   },
   "file_extension": ".py",
   "mimetype": "text/x-python",
   "name": "python",
   "nbconvert_exporter": "python",
   "pygments_lexer": "ipython3",
   "version": "3.8.8"
  },
  "varInspector": {
   "cols": {
    "lenName": 16,
    "lenType": 16,
    "lenVar": 40
   },
   "kernels_config": {
    "python": {
     "delete_cmd_postfix": "",
     "delete_cmd_prefix": "del ",
     "library": "var_list.py",
     "varRefreshCmd": "print(var_dic_list())"
    },
    "r": {
     "delete_cmd_postfix": ") ",
     "delete_cmd_prefix": "rm(",
     "library": "var_list.r",
     "varRefreshCmd": "cat(var_dic_list()) "
    }
   },
   "types_to_exclude": [
    "module",
    "function",
    "builtin_function_or_method",
    "instance",
    "_Feature"
   ],
   "window_display": false
  }
 },
 "nbformat": 4,
 "nbformat_minor": 5
}
