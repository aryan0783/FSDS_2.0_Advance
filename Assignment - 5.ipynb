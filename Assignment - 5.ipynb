{
 "cells": [
  {
   "cell_type": "markdown",
   "id": "d70b2877",
   "metadata": {},
   "source": [
    "### Q1. What is the meaning of multiple inheritance?"
   ]
  },
  {
   "cell_type": "markdown",
   "id": "ed77d92c",
   "metadata": {},
   "source": [
    "- Multiple inheritance is the type of inheritance in which the child class inherit from multiple or more than one parent classes."
   ]
  },
  {
   "cell_type": "code",
   "execution_count": 1,
   "id": "fbd5687d",
   "metadata": {},
   "outputs": [],
   "source": [
    "# eg :\n",
    "\n",
    "class A:\n",
    "    \n",
    "    pass\n",
    "\n",
    "class B:\n",
    "    \n",
    "    pass\n",
    "\n",
    "class C(A,B):\n",
    "    \n",
    "    pass"
   ]
  },
  {
   "cell_type": "markdown",
   "id": "1dc075e6",
   "metadata": {},
   "source": [
    "### Q2. What is the concept of delegation?"
   ]
  },
  {
   "cell_type": "markdown",
   "id": "d85c7951",
   "metadata": {},
   "source": [
    "- it is a concept where object of another class is performing the task in which other class is involved. "
   ]
  },
  {
   "cell_type": "code",
   "execution_count": 8,
   "id": "fe21bba5",
   "metadata": {},
   "outputs": [],
   "source": [
    "class A:\n",
    "    \n",
    "    def speak(self):\n",
    "        return 'I am speaking!'\n",
    "    \n",
    "class B:\n",
    "    \n",
    "    def speak(self,obj):\n",
    "        return obj.speak()"
   ]
  },
  {
   "cell_type": "code",
   "execution_count": 9,
   "id": "31ce473f",
   "metadata": {},
   "outputs": [
    {
     "data": {
      "text/plain": [
       "'I am speaking!'"
      ]
     },
     "execution_count": 9,
     "metadata": {},
     "output_type": "execute_result"
    }
   ],
   "source": [
    "obj1 = A()\n",
    "obj2 = B()\n",
    "obj2.speak(obj1)"
   ]
  },
  {
   "cell_type": "markdown",
   "id": "e27b9880",
   "metadata": {},
   "source": [
    "### Q3. What is the concept of composition?"
   ]
  },
  {
   "cell_type": "markdown",
   "id": "0e6838e7",
   "metadata": {},
   "source": [
    "- fundamental concept of OOps where one class contains the object of another class"
   ]
  },
  {
   "cell_type": "code",
   "execution_count": 10,
   "id": "79846271",
   "metadata": {},
   "outputs": [],
   "source": [
    "# eg:\n",
    "\n",
    "class A:\n",
    "    \n",
    "    pass\n",
    "\n",
    "class B:\n",
    "    \n",
    "    obj1 = A()"
   ]
  },
  {
   "cell_type": "markdown",
   "id": "91327b66",
   "metadata": {},
   "source": [
    "### Q4. What are bound methods and how do we use them?"
   ]
  },
  {
   "cell_type": "markdown",
   "id": "a9638c61",
   "metadata": {},
   "source": [
    "- bound methods are those methods which need instance of class as a argument in the first place.\n",
    "\n",
    "- We use them with the help of self keyword as first parameter of the method"
   ]
  },
  {
   "cell_type": "code",
   "execution_count": 12,
   "id": "c5ed021a",
   "metadata": {},
   "outputs": [],
   "source": [
    "class A:\n",
    "    \n",
    "    # bound method :\n",
    "    def func(self):\n",
    "        print(\"Hello\")"
   ]
  },
  {
   "cell_type": "code",
   "execution_count": 13,
   "id": "3affc511",
   "metadata": {},
   "outputs": [
    {
     "name": "stdout",
     "output_type": "stream",
     "text": [
      "Hello\n"
     ]
    }
   ],
   "source": [
    "obj1 = A()\n",
    "obj1.func()"
   ]
  },
  {
   "cell_type": "markdown",
   "id": "e362452b",
   "metadata": {},
   "source": [
    "### Q5. What is the purpose of pseudoprivate attributes?"
   ]
  },
  {
   "cell_type": "markdown",
   "id": "18ef7c02",
   "metadata": {},
   "source": [
    "Purpose of private attributes in python classes :\n",
    "\n",
    "- To preserve some confedential informations.\n",
    "- To restrict the access from the public."
   ]
  },
  {
   "cell_type": "code",
   "execution_count": 14,
   "id": "e091b3a4",
   "metadata": {},
   "outputs": [],
   "source": [
    "class A:\n",
    "    \n",
    "    def __init__(self,name,age):\n",
    "        self.name = name\n",
    "        self.age = age\n",
    "        self.__salary = 90000  # pseudoprivate attribute"
   ]
  }
 ],
 "metadata": {
  "kernelspec": {
   "display_name": "Python 3",
   "language": "python",
   "name": "python3"
  },
  "language_info": {
   "codemirror_mode": {
    "name": "ipython",
    "version": 3
   },
   "file_extension": ".py",
   "mimetype": "text/x-python",
   "name": "python",
   "nbconvert_exporter": "python",
   "pygments_lexer": "ipython3",
   "version": "3.8.8"
  },
  "varInspector": {
   "cols": {
    "lenName": 16,
    "lenType": 16,
    "lenVar": 40
   },
   "kernels_config": {
    "python": {
     "delete_cmd_postfix": "",
     "delete_cmd_prefix": "del ",
     "library": "var_list.py",
     "varRefreshCmd": "print(var_dic_list())"
    },
    "r": {
     "delete_cmd_postfix": ") ",
     "delete_cmd_prefix": "rm(",
     "library": "var_list.r",
     "varRefreshCmd": "cat(var_dic_list()) "
    }
   },
   "types_to_exclude": [
    "module",
    "function",
    "builtin_function_or_method",
    "instance",
    "_Feature"
   ],
   "window_display": false
  }
 },
 "nbformat": 4,
 "nbformat_minor": 5
}
