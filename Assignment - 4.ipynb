{
 "cells": [
  {
   "cell_type": "markdown",
   "id": "8a40f36f",
   "metadata": {},
   "source": [
    "### Q1. Which two operator overloading methods can you use in your classes to support iteration?"
   ]
  },
  {
   "cell_type": "markdown",
   "id": "73672555",
   "metadata": {},
   "source": [
    "- two operators which we can use in our class to support the iteration are : ```__next__ and __iter__```"
   ]
  },
  {
   "cell_type": "code",
   "execution_count": 5,
   "id": "df76350f",
   "metadata": {},
   "outputs": [
    {
     "name": "stdout",
     "output_type": "stream",
     "text": [
      "4\n",
      "5\n",
      "6\n",
      "7\n",
      "8\n",
      "9\n",
      "10\n",
      "11\n",
      "12\n",
      "13\n",
      "14\n",
      "15\n",
      "16\n",
      "17\n",
      "18\n",
      "19\n"
     ]
    }
   ],
   "source": [
    "# eg :\n",
    "\n",
    "class Iteration:\n",
    "    \n",
    "    def __init__(self,low,high):\n",
    "        self.low = low\n",
    "        self.high = high\n",
    "        \n",
    "    def __iter__(self):\n",
    "        return self\n",
    "    \n",
    "    def __next__(self):\n",
    "        if self.low > self.high:\n",
    "            raise StopIteration\n",
    "            \n",
    "        else:\n",
    "            self.low += 1\n",
    "            return self.low - 1\n",
    "        \n",
    "for i in Iteration(4,19):\n",
    "    print(i)"
   ]
  },
  {
   "cell_type": "markdown",
   "id": "d8da2e87",
   "metadata": {},
   "source": [
    "### Q2. In what contexts do the two operator overloading methods manage printing?"
   ]
  },
  {
   "cell_type": "markdown",
   "id": "3903a6bf",
   "metadata": {},
   "source": [
    "- the two operator which is being mentioned here are :\n",
    "```\n",
    "__repr__ : it represent the string representation of object.\n",
    "__str__  : it represents the class objects as a string.\n",
    "\n",
    "```"
   ]
  },
  {
   "cell_type": "code",
   "execution_count": 7,
   "id": "f7ec2164",
   "metadata": {},
   "outputs": [],
   "source": [
    "class Person:\n",
    "    \n",
    "    def __repr__(self):\n",
    "        return \"This is Person class!\"\n",
    "    \n",
    "    def __str__(self):\n",
    "        return \"This is string representation!\""
   ]
  },
  {
   "cell_type": "code",
   "execution_count": 10,
   "id": "3b32907a",
   "metadata": {},
   "outputs": [
    {
     "data": {
      "text/plain": [
       "This is Person class!"
      ]
     },
     "execution_count": 10,
     "metadata": {},
     "output_type": "execute_result"
    }
   ],
   "source": [
    "obj1 = Person()\n",
    "obj1"
   ]
  },
  {
   "cell_type": "code",
   "execution_count": 11,
   "id": "69b2d7de",
   "metadata": {},
   "outputs": [
    {
     "name": "stdout",
     "output_type": "stream",
     "text": [
      "This is string representation!\n"
     ]
    }
   ],
   "source": [
    "print(obj1)"
   ]
  },
  {
   "cell_type": "markdown",
   "id": "32130520",
   "metadata": {},
   "source": [
    "### Q3. In a class, how do you intercept slice operations?"
   ]
  },
  {
   "cell_type": "markdown",
   "id": "0badea19",
   "metadata": {},
   "source": [
    "- we define the behaviour of iterables for slicing inside the \n",
    "```\n",
    "__getitem__ method/operator\n",
    "```"
   ]
  },
  {
   "cell_type": "code",
   "execution_count": 13,
   "id": "182dcf65",
   "metadata": {},
   "outputs": [],
   "source": [
    "class iteration:\n",
    "    \n",
    "    def __getitem__(self,key):\n",
    "        \n",
    "        return key"
   ]
  },
  {
   "cell_type": "code",
   "execution_count": 14,
   "id": "b812e583",
   "metadata": {},
   "outputs": [
    {
     "data": {
      "text/plain": [
       "12"
      ]
     },
     "execution_count": 14,
     "metadata": {},
     "output_type": "execute_result"
    }
   ],
   "source": [
    "a = iteration()\n",
    "a[12]"
   ]
  },
  {
   "cell_type": "markdown",
   "id": "ffe43516",
   "metadata": {},
   "source": [
    "### Q4. In a class, how do you capture in-place addition?"
   ]
  },
  {
   "cell_type": "markdown",
   "id": "2e4c8bdb",
   "metadata": {},
   "source": [
    "- the inplace addition behaviour is defined inside the dunder method\n",
    "```\n",
    "__iadd__()\n",
    "\n",
    "```"
   ]
  },
  {
   "cell_type": "code",
   "execution_count": 15,
   "id": "223a9b1a",
   "metadata": {},
   "outputs": [
    {
     "name": "stdout",
     "output_type": "stream",
     "text": [
      "37\n"
     ]
    }
   ],
   "source": [
    "x = 3\n",
    "x += 34\n",
    "print(x)"
   ]
  },
  {
   "cell_type": "markdown",
   "id": "a9855ae7",
   "metadata": {},
   "source": [
    "### Q5. When is it appropriate to use operator overloading?"
   ]
  },
  {
   "cell_type": "markdown",
   "id": "b744eacf",
   "metadata": {},
   "source": [
    "Appropriate conditions for operator overloading :\n",
    "\n",
    "- when you want to give the operator some extended meaning. eg : + , it works as addition operator and also works in concatenation.\n",
    "\n",
    "- It is applied by using the magic methods or dunder methods."
   ]
  },
  {
   "cell_type": "code",
   "execution_count": 16,
   "id": "244d7feb",
   "metadata": {},
   "outputs": [],
   "source": [
    "# eg :\n",
    "\n",
    "class A:\n",
    "    def __init__(self, a):\n",
    "        self.a = a\n",
    " \n",
    "    def __mul__(self, o):\n",
    "        return self.a * o.a"
   ]
  },
  {
   "cell_type": "code",
   "execution_count": 17,
   "id": "31a55323",
   "metadata": {},
   "outputs": [],
   "source": [
    "obj1 = A(1)\n",
    "obj2 = A(2)"
   ]
  },
  {
   "cell_type": "code",
   "execution_count": 18,
   "id": "c7b2d99d",
   "metadata": {},
   "outputs": [
    {
     "data": {
      "text/plain": [
       "2"
      ]
     },
     "execution_count": 18,
     "metadata": {},
     "output_type": "execute_result"
    }
   ],
   "source": [
    "obj1 * obj2"
   ]
  },
  {
   "cell_type": "code",
   "execution_count": 19,
   "id": "7dbaa59f",
   "metadata": {},
   "outputs": [],
   "source": [
    "obj1 = A(\"Aryan\")\n",
    "obj2 = A(2)"
   ]
  },
  {
   "cell_type": "code",
   "execution_count": 20,
   "id": "252774fd",
   "metadata": {},
   "outputs": [
    {
     "data": {
      "text/plain": [
       "'AryanAryan'"
      ]
     },
     "execution_count": 20,
     "metadata": {},
     "output_type": "execute_result"
    }
   ],
   "source": [
    "obj1 * obj2"
   ]
  }
 ],
 "metadata": {
  "kernelspec": {
   "display_name": "Python 3",
   "language": "python",
   "name": "python3"
  },
  "language_info": {
   "codemirror_mode": {
    "name": "ipython",
    "version": 3
   },
   "file_extension": ".py",
   "mimetype": "text/x-python",
   "name": "python",
   "nbconvert_exporter": "python",
   "pygments_lexer": "ipython3",
   "version": "3.8.8"
  },
  "varInspector": {
   "cols": {
    "lenName": 16,
    "lenType": 16,
    "lenVar": 40
   },
   "kernels_config": {
    "python": {
     "delete_cmd_postfix": "",
     "delete_cmd_prefix": "del ",
     "library": "var_list.py",
     "varRefreshCmd": "print(var_dic_list())"
    },
    "r": {
     "delete_cmd_postfix": ") ",
     "delete_cmd_prefix": "rm(",
     "library": "var_list.r",
     "varRefreshCmd": "cat(var_dic_list()) "
    }
   },
   "types_to_exclude": [
    "module",
    "function",
    "builtin_function_or_method",
    "instance",
    "_Feature"
   ],
   "window_display": false
  }
 },
 "nbformat": 4,
 "nbformat_minor": 5
}
