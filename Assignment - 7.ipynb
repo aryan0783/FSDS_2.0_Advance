{
 "cells": [
  {
   "cell_type": "markdown",
   "id": "611a8854",
   "metadata": {},
   "source": [
    "### Q1. What is the purpose of the try statement?"
   ]
  },
  {
   "cell_type": "markdown",
   "id": "22a15061",
   "metadata": {},
   "source": [
    "Purpose of try statement :\n",
    "\n",
    "- try block catches the code which has error.\n",
    "- try block checks for the error in the block of code."
   ]
  },
  {
   "cell_type": "markdown",
   "id": "4fab3e9b",
   "metadata": {},
   "source": [
    "### Q2. What are the two most popular try statement variations?"
   ]
  },
  {
   "cell_type": "markdown",
   "id": "0a0f6050",
   "metadata": {},
   "source": [
    "- try - except\n",
    "- try - except - else"
   ]
  },
  {
   "cell_type": "code",
   "execution_count": null,
   "id": "32ba5be8",
   "metadata": {},
   "outputs": [],
   "source": [
    "try:\n",
    "    \n",
    "    pass\n",
    "\n",
    "except:\n",
    "    \n",
    "    pass"
   ]
  },
  {
   "cell_type": "code",
   "execution_count": null,
   "id": "c7c113db",
   "metadata": {},
   "outputs": [],
   "source": [
    "try:\n",
    "    \n",
    "    pass\n",
    "\n",
    "except:\n",
    "    \n",
    "    pass\n",
    "\n",
    "else:\n",
    "    \n",
    "    pass"
   ]
  },
  {
   "cell_type": "markdown",
   "id": "c2e58e6c",
   "metadata": {},
   "source": [
    "### Q3. What is the purpose of the raise statement?"
   ]
  },
  {
   "cell_type": "markdown",
   "id": "7029595a",
   "metadata": {},
   "source": [
    "- Purpose of raise statement is to raise the custom exception in the program."
   ]
  },
  {
   "cell_type": "code",
   "execution_count": 2,
   "id": "4b622343",
   "metadata": {},
   "outputs": [
    {
     "name": "stdout",
     "output_type": "stream",
     "text": [
      "Enter the no. : 0\n",
      "Value Error : Value should not be zero or below zero!\n"
     ]
    }
   ],
   "source": [
    "try:\n",
    "    \n",
    "    n = int(input(\"Enter the no. : \"))\n",
    "    \n",
    "    if n<=0:\n",
    "        raise Exception('Value Error : Value should not be zero or below zero!')\n",
    "        \n",
    "    else:\n",
    "        print(n*n)\n",
    "        \n",
    "except Exception as e:\n",
    "    \n",
    "    print(e)"
   ]
  },
  {
   "cell_type": "markdown",
   "id": "8c51feb7",
   "metadata": {},
   "source": [
    "### Q4. What does the assert statement do, and what other statement is it like?"
   ]
  },
  {
   "cell_type": "markdown",
   "id": "e62429b4",
   "metadata": {},
   "source": [
    "- assert statement checks the condition in the program , if the condition is true program continue to run else it will raise assertion error\n",
    "\n",
    "<br>\n",
    "\n",
    "- it is similar to if statement only change is it raises the AssertionError when the condition is false."
   ]
  },
  {
   "cell_type": "code",
   "execution_count": 4,
   "id": "6b85f3a9",
   "metadata": {},
   "outputs": [
    {
     "name": "stdout",
     "output_type": "stream",
     "text": [
      "Enter the no. : 0\n"
     ]
    },
    {
     "ename": "AssertionError",
     "evalue": "",
     "output_type": "error",
     "traceback": [
      "\u001b[1;31m---------------------------------------------------------------------------\u001b[0m",
      "\u001b[1;31mAssertionError\u001b[0m                            Traceback (most recent call last)",
      "\u001b[1;32m<ipython-input-4-2164ec32025b>\u001b[0m in \u001b[0;36m<module>\u001b[1;34m\u001b[0m\n\u001b[0;32m      3\u001b[0m \u001b[0mn\u001b[0m \u001b[1;33m=\u001b[0m \u001b[0mint\u001b[0m\u001b[1;33m(\u001b[0m\u001b[0minput\u001b[0m\u001b[1;33m(\u001b[0m\u001b[1;34m'Enter the no. : '\u001b[0m\u001b[1;33m)\u001b[0m\u001b[1;33m)\u001b[0m\u001b[1;33m\u001b[0m\u001b[1;33m\u001b[0m\u001b[0m\n\u001b[0;32m      4\u001b[0m \u001b[1;33m\u001b[0m\u001b[0m\n\u001b[1;32m----> 5\u001b[1;33m \u001b[1;32massert\u001b[0m \u001b[0mn\u001b[0m\u001b[1;33m>\u001b[0m\u001b[1;36m0\u001b[0m\u001b[1;33m\u001b[0m\u001b[1;33m\u001b[0m\u001b[0m\n\u001b[0m\u001b[0;32m      6\u001b[0m \u001b[0mprint\u001b[0m\u001b[1;33m(\u001b[0m\u001b[0mn\u001b[0m\u001b[1;33m+\u001b[0m\u001b[0mn\u001b[0m\u001b[1;33m)\u001b[0m\u001b[1;33m\u001b[0m\u001b[1;33m\u001b[0m\u001b[0m\n",
      "\u001b[1;31mAssertionError\u001b[0m: "
     ]
    }
   ],
   "source": [
    "# eg :\n",
    "\n",
    "n = int(input('Enter the no. : '))\n",
    "\n",
    "assert n>0\n",
    "print(n+n)"
   ]
  },
  {
   "cell_type": "markdown",
   "id": "8fcf2757",
   "metadata": {},
   "source": [
    "### Q5. What is the purpose of the with/as argument, and what other statement is it like?"
   ]
  },
  {
   "cell_type": "markdown",
   "id": "c39d53e5",
   "metadata": {},
   "source": [
    "- with as statement is used in the file handling situations, where as is used to give the alias and with is used to open the file path.\n",
    "\n",
    "<br>\n",
    "\n",
    "- with statement is kind of try-except block in python\n",
    "\n",
    "<br>\n",
    "\n",
    "- in case of with statement it automatically close the file once you did your work."
   ]
  },
  {
   "cell_type": "code",
   "execution_count": null,
   "id": "793e3b08",
   "metadata": {},
   "outputs": [],
   "source": [
    "with open(\"example.txt\", \"r\") as file:\n",
    "    file.write(\"Hello World!\")"
   ]
  }
 ],
 "metadata": {
  "kernelspec": {
   "display_name": "Python 3",
   "language": "python",
   "name": "python3"
  },
  "language_info": {
   "codemirror_mode": {
    "name": "ipython",
    "version": 3
   },
   "file_extension": ".py",
   "mimetype": "text/x-python",
   "name": "python",
   "nbconvert_exporter": "python",
   "pygments_lexer": "ipython3",
   "version": "3.8.8"
  },
  "varInspector": {
   "cols": {
    "lenName": 16,
    "lenType": 16,
    "lenVar": 40
   },
   "kernels_config": {
    "python": {
     "delete_cmd_postfix": "",
     "delete_cmd_prefix": "del ",
     "library": "var_list.py",
     "varRefreshCmd": "print(var_dic_list())"
    },
    "r": {
     "delete_cmd_postfix": ") ",
     "delete_cmd_prefix": "rm(",
     "library": "var_list.r",
     "varRefreshCmd": "cat(var_dic_list()) "
    }
   },
   "types_to_exclude": [
    "module",
    "function",
    "builtin_function_or_method",
    "instance",
    "_Feature"
   ],
   "window_display": false
  }
 },
 "nbformat": 4,
 "nbformat_minor": 5
}
