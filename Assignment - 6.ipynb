{
 "cells": [
  {
   "cell_type": "markdown",
   "id": "612ee4e5",
   "metadata": {},
   "source": [
    "### Q1. Describe three applications for exception processing."
   ]
  },
  {
   "cell_type": "markdown",
   "id": "abf47423",
   "metadata": {},
   "source": [
    "- it handles the runtime error occurred in the program\n",
    "- it catches the error in the program.\n",
    "- ensures the efficient execution of the program."
   ]
  },
  {
   "cell_type": "markdown",
   "id": "4063c414",
   "metadata": {},
   "source": [
    "### Q2. What happens if you don&#39;t do something extra to treat an exception?"
   ]
  },
  {
   "cell_type": "markdown",
   "id": "8971fde9",
   "metadata": {},
   "source": [
    "By something extra I mean use of logging\n",
    "\n",
    "- in such situation the error which code produces will not be recorded and we cannot trace the working of the program"
   ]
  },
  {
   "cell_type": "code",
   "execution_count": 1,
   "id": "3c2f6b87",
   "metadata": {},
   "outputs": [],
   "source": [
    "# eg : \n",
    "\n",
    "import logging\n",
    "logging.basicConfig(filename = 'Assgn-6',level=logging.INFO,format='%(asctime)s %(name)s %(levelname)s %(message)s')"
   ]
  },
  {
   "cell_type": "code",
   "execution_count": 2,
   "id": "2eab41f0",
   "metadata": {},
   "outputs": [
    {
     "name": "stdout",
     "output_type": "stream",
     "text": [
      "Enter the no: df\n"
     ]
    }
   ],
   "source": [
    "try:\n",
    "    \n",
    "    n = int(input(\"Enter the no: \"))\n",
    "    print(n**2)\n",
    "    \n",
    "except Exception as e:\n",
    "    \n",
    "    logging.error(f\"Error occurred in the Assignment-6 Q2 : {e}\")"
   ]
  },
  {
   "attachments": {
    "image.png": {
     "image/png": "[encoded data removed]"
    }
   },
   "cell_type": "markdown",
   "id": "4b81cbe4",
   "metadata": {},
   "source": [
    "![image.png](attachment:image.png)"
   ]
  },
  {
   "cell_type": "markdown",
   "id": "067e7f20",
   "metadata": {},
   "source": [
    "### Q3. What are your options for recovering from an exception in your script?"
   ]
  },
  {
   "cell_type": "markdown",
   "id": "d25ab204",
   "metadata": {},
   "source": [
    "- use of nested try block\n",
    "- we can use else block along with the try and else block.\n",
    "- finnally can also used to execute that block of code which has nothing to do with try-except block"
   ]
  },
  {
   "cell_type": "code",
   "execution_count": 3,
   "id": "2446df82",
   "metadata": {},
   "outputs": [
    {
     "name": "stdout",
     "output_type": "stream",
     "text": [
      "Enter the no: 5\n",
      "25\n",
      "The program has successfully run!\n"
     ]
    }
   ],
   "source": [
    "# eg :\n",
    "    \n",
    "try:\n",
    "\n",
    "    n = int(input(\"Enter the no: \"))\n",
    "    print(n**2)\n",
    "\n",
    "except Exception as e:\n",
    "\n",
    "    print(e)\n",
    "    \n",
    "else:\n",
    "    \n",
    "    print('The program has successfully run!')"
   ]
  },
  {
   "cell_type": "code",
   "execution_count": 4,
   "id": "cc3bc1fd",
   "metadata": {},
   "outputs": [
    {
     "name": "stdout",
     "output_type": "stream",
     "text": [
      "Enter the no: jb\n",
      "invalid literal for int() with base 10: 'jb'\n"
     ]
    }
   ],
   "source": [
    "try:\n",
    "\n",
    "    n = int(input(\"Enter the no: \"))\n",
    "    print(n**2)\n",
    "\n",
    "except Exception as e:\n",
    "\n",
    "    print(e)\n",
    "    \n",
    "else:\n",
    "    \n",
    "    print('The program has successfully run!')"
   ]
  },
  {
   "cell_type": "markdown",
   "id": "7949a862",
   "metadata": {},
   "source": [
    "### Q4. Describe two methods for triggering exceptions in your script."
   ]
  },
  {
   "cell_type": "markdown",
   "id": "caff81cb",
   "metadata": {},
   "source": [
    "#### The Two methods for triggering exceptions are :\n",
    "\n",
    "- use of try - except block to raise the exception.\n",
    "- use of raise statement to raise the custom exception."
   ]
  },
  {
   "cell_type": "markdown",
   "id": "c4c587b9",
   "metadata": {},
   "source": [
    "### Q5. Identify two methods for specifying actions to be executed at termination time, regardless of whether or not an exception exists."
   ]
  },
  {
   "cell_type": "markdown",
   "id": "ce1c165f",
   "metadata": {},
   "source": [
    "- finally : this statement will be executed even if there is a runtime error.\n",
    "- else : this statement will execute only when there is no exceptions."
   ]
  },
  {
   "cell_type": "code",
   "execution_count": 6,
   "id": "d5fa6ece",
   "metadata": {},
   "outputs": [
    {
     "name": "stdout",
     "output_type": "stream",
     "text": [
      "Enter the no: df\n",
      "invalid literal for int() with base 10: 'df'\n",
      "The program to print the square of number!\n"
     ]
    }
   ],
   "source": [
    "# eg of finally block :\n",
    "\n",
    "try:\n",
    "\n",
    "    n = int(input(\"Enter the no: \"))\n",
    "    print(n**2)\n",
    "\n",
    "except Exception as e:\n",
    "\n",
    "    print(e)\n",
    "    \n",
    "finally:\n",
    "    \n",
    "    print('The program to print the square of number!')"
   ]
  },
  {
   "cell_type": "code",
   "execution_count": 7,
   "id": "d11d0056",
   "metadata": {},
   "outputs": [
    {
     "name": "stdout",
     "output_type": "stream",
     "text": [
      "Enter the no: daf\n",
      "invalid literal for int() with base 10: 'daf'\n"
     ]
    }
   ],
   "source": [
    "# eg of else block :\n",
    "\n",
    "try:\n",
    "\n",
    "    n = int(input(\"Enter the no: \"))\n",
    "    print(n**2)\n",
    "\n",
    "except Exception as e:\n",
    "\n",
    "    print(e)\n",
    "    \n",
    "else:\n",
    "    \n",
    "    print('The program has successfully run!')"
   ]
  }
 ],
 "metadata": {
  "kernelspec": {
   "display_name": "Python 3",
   "language": "python",
   "name": "python3"
  },
  "language_info": {
   "codemirror_mode": {
    "name": "ipython",
    "version": 3
   },
   "file_extension": ".py",
   "mimetype": "text/x-python",
   "name": "python",
   "nbconvert_exporter": "python",
   "pygments_lexer": "ipython3",
   "version": "3.8.8"
  },
  "varInspector": {
   "cols": {
    "lenName": 16,
    "lenType": 16,
    "lenVar": 40
   },
   "kernels_config": {
    "python": {
     "delete_cmd_postfix": "",
     "delete_cmd_prefix": "del ",
     "library": "var_list.py",
     "varRefreshCmd": "print(var_dic_list())"
    },
    "r": {
     "delete_cmd_postfix": ") ",
     "delete_cmd_prefix": "rm(",
     "library": "var_list.r",
     "varRefreshCmd": "cat(var_dic_list()) "
    }
   },
   "types_to_exclude": [
    "module",
    "function",
    "builtin_function_or_method",
    "instance",
    "_Feature"
   ],
   "window_display": false
  }
 },
 "nbformat": 4,
 "nbformat_minor": 5
}
