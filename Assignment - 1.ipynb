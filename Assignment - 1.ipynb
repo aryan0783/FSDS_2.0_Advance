{
 "cells": [
  {
   "cell_type": "markdown",
   "id": "7d54f262",
   "metadata": {},
   "source": [
    "### Q1. What is the purpose of Python&#39;s OOP?"
   ]
  },
  {
   "cell_type": "markdown",
   "id": "48ff5ee3",
   "metadata": {},
   "source": [
    "- Purpose of OOp's in python is to enhance the code reusability while using the concepts such as abstraction, encapsulation, inheritance, polymorphism etc."
   ]
  },
  {
   "cell_type": "code",
   "execution_count": 1,
   "id": "40b7abf0",
   "metadata": {},
   "outputs": [],
   "source": [
    "# eg of oops paradigm :\n",
    "\n",
    "class Person:\n",
    "    \n",
    "    def __init__(self,name,age):\n",
    "        self.name = name\n",
    "        self.age = age"
   ]
  },
  {
   "cell_type": "code",
   "execution_count": 3,
   "id": "597ef8a3",
   "metadata": {},
   "outputs": [
    {
     "name": "stdout",
     "output_type": "stream",
     "text": [
      "Aryan\n",
      "20\n"
     ]
    }
   ],
   "source": [
    "person1 = Person('Aryan',20)\n",
    "print(person1.name)\n",
    "print(person1.age)"
   ]
  },
  {
   "cell_type": "markdown",
   "id": "f563ea89",
   "metadata": {},
   "source": [
    "### Q2. Where does an inheritance search look for an attribute?"
   ]
  },
  {
   "cell_type": "markdown",
   "id": "87bfd0fc",
   "metadata": {},
   "source": [
    "- Inheritance search look first for an attribute in the instance class then it will search the attribute in the super-class of the instance class. "
   ]
  },
  {
   "cell_type": "code",
   "execution_count": 4,
   "id": "bab029d1",
   "metadata": {},
   "outputs": [],
   "source": [
    "# eg :\n",
    "\n",
    "# Super-class\n",
    "class Person:\n",
    "    \n",
    "    def __init__(self,name,age):\n",
    "        self.name = name\n",
    "        self.age = age\n",
    "        \n",
    "# Child-class\n",
    "class Student(Person):\n",
    "    \n",
    "    pass"
   ]
  },
  {
   "cell_type": "code",
   "execution_count": 5,
   "id": "1b12f84b",
   "metadata": {},
   "outputs": [
    {
     "name": "stdout",
     "output_type": "stream",
     "text": [
      "Jitin\n"
     ]
    }
   ],
   "source": [
    "stud1 = Student('Jitin',29)\n",
    "\n",
    "print(stud1.name)"
   ]
  },
  {
   "cell_type": "markdown",
   "id": "9a818a35",
   "metadata": {},
   "source": [
    "### Q3. How do you distinguish between a class object and an instance object?"
   ]
  },
  {
   "cell_type": "markdown",
   "id": "48fc98bb",
   "metadata": {},
   "source": [
    "- class object is the actual thing that is build based on the blue print.\n",
    "\n",
    "<br>\n",
    "\n",
    "- instance object is the virtual copy of the class object."
   ]
  },
  {
   "cell_type": "markdown",
   "id": "44809163",
   "metadata": {},
   "source": [
    "### Q4. What makes the first argument in a class’s method function special?"
   ]
  },
  {
   "cell_type": "markdown",
   "id": "5232f407",
   "metadata": {},
   "source": [
    "- the first argument in a class's method function is special as it stores the reference to the class instance, it work is to refer to point to the class instance.\n",
    "\n",
    "- and according to naming convention it should be named self."
   ]
  },
  {
   "cell_type": "code",
   "execution_count": 6,
   "id": "835a3cf4",
   "metadata": {},
   "outputs": [],
   "source": [
    "# eg :\n",
    "\n",
    "class Person:\n",
    "    \n",
    "    def walking(self):\n",
    "        return 'Person is walking!'"
   ]
  },
  {
   "cell_type": "markdown",
   "id": "3c22a5a1",
   "metadata": {},
   "source": [
    "### Q5. What is the purpose of the __init__ method?"
   ]
  },
  {
   "cell_type": "markdown",
   "id": "c5ec820f",
   "metadata": {},
   "source": [
    "- Purpose of init method is to initialize the object's attributes.\n",
    "- init method is a dunder method so we do not need to call it specially."
   ]
  },
  {
   "cell_type": "code",
   "execution_count": 8,
   "id": "6a3578a8",
   "metadata": {},
   "outputs": [],
   "source": [
    "# eg :\n",
    "\n",
    "class Person:\n",
    "    \n",
    "    def __init__(self,name,age):\n",
    "        self.name = name\n",
    "        self.age = age"
   ]
  },
  {
   "cell_type": "markdown",
   "id": "d2e434b3",
   "metadata": {},
   "source": [
    "### Q6. What is the process for creating a class instance?"
   ]
  },
  {
   "cell_type": "markdown",
   "id": "ea03d872",
   "metadata": {},
   "source": [
    "- The process of creating class instance is to call the class by passing the required arguments to the class and storing the reference of the following inside the variable which we call as class instance."
   ]
  },
  {
   "cell_type": "code",
   "execution_count": 9,
   "id": "4859f2f5",
   "metadata": {},
   "outputs": [],
   "source": [
    "# eg :\n",
    "\n",
    "person1 = Person('Aryan',24)"
   ]
  },
  {
   "cell_type": "markdown",
   "id": "bf49bdcc",
   "metadata": {},
   "source": [
    "### Q7. What is the process for creating a class?"
   ]
  },
  {
   "cell_type": "markdown",
   "id": "7c2bdb45",
   "metadata": {},
   "source": [
    "- The process of creating a class is by using class keyword followed by class_name followed by colon.\n",
    "- inside the class you can mention the class attributes or can initialize the object attributes by using init method, you can define some other methods inside the class"
   ]
  },
  {
   "cell_type": "code",
   "execution_count": 10,
   "id": "d4c64ff2",
   "metadata": {},
   "outputs": [],
   "source": [
    "# eg :\n",
    "\n",
    "class Company_XYZ:\n",
    "    \n",
    "    CEO = 'Jitin'\n",
    "    \n",
    "    def __init__(self,industry):\n",
    "        self.industry = industry\n",
    "        \n",
    "    def getCEO(self):\n",
    "        return f'CEO of the company is {Company_XYZ.CEO}'"
   ]
  },
  {
   "cell_type": "code",
   "execution_count": 11,
   "id": "cc5c9333",
   "metadata": {},
   "outputs": [
    {
     "data": {
      "text/plain": [
       "'CEO of the company is Jitin'"
      ]
     },
     "execution_count": 11,
     "metadata": {},
     "output_type": "execute_result"
    }
   ],
   "source": [
    "c1 = Company_XYZ('Consultation')\n",
    "c1.getCEO()"
   ]
  },
  {
   "cell_type": "markdown",
   "id": "72890894",
   "metadata": {},
   "source": [
    "### Q8. How would you define the superclasses of a class?"
   ]
  },
  {
   "cell_type": "markdown",
   "id": "c55d2e9b",
   "metadata": {},
   "source": [
    "- superclass is the class which other classes inherit code.\n",
    "- the classes which inherit the code is known as sub-classes."
   ]
  },
  {
   "cell_type": "code",
   "execution_count": 12,
   "id": "e539292b",
   "metadata": {},
   "outputs": [],
   "source": [
    "# eg :\n",
    "\n",
    "# Super-class\n",
    "class Person:\n",
    "    \n",
    "    def __init__(self,name,age):\n",
    "        self.name = name\n",
    "        self.age = age\n",
    "        \n",
    "# Child-class or Subclass :\n",
    "class Student(Person):\n",
    "    \n",
    "    pass"
   ]
  }
 ],
 "metadata": {
  "kernelspec": {
   "display_name": "Python 3",
   "language": "python",
   "name": "python3"
  },
  "language_info": {
   "codemirror_mode": {
    "name": "ipython",
    "version": 3
   },
   "file_extension": ".py",
   "mimetype": "text/x-python",
   "name": "python",
   "nbconvert_exporter": "python",
   "pygments_lexer": "ipython3",
   "version": "3.8.8"
  },
  "varInspector": {
   "cols": {
    "lenName": 16,
    "lenType": 16,
    "lenVar": 40
   },
   "kernels_config": {
    "python": {
     "delete_cmd_postfix": "",
     "delete_cmd_prefix": "del ",
     "library": "var_list.py",
     "varRefreshCmd": "print(var_dic_list())"
    },
    "r": {
     "delete_cmd_postfix": ") ",
     "delete_cmd_prefix": "rm(",
     "library": "var_list.r",
     "varRefreshCmd": "cat(var_dic_list()) "
    }
   },
   "types_to_exclude": [
    "module",
    "function",
    "builtin_function_or_method",
    "instance",
    "_Feature"
   ],
   "window_display": false
  }
 },
 "nbformat": 4,
 "nbformat_minor": 5
}
