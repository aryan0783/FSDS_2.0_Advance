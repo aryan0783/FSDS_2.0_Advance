{
 "cells": [
  {
   "cell_type": "markdown",
   "id": "1f2aaa85",
   "metadata": {},
   "source": [
    "### Q1. What is the relationship between classes and modules?"
   ]
  },
  {
   "cell_type": "markdown",
   "id": "375908b2",
   "metadata": {},
   "source": [
    "- classes are the blueprint that have some attributes or functionality in it.\n",
    "\n",
    "- modules can be referred as the files that has classes defined in it.\n",
    "\n",
    "<br>\n",
    "\n",
    "- eg : modules > classes"
   ]
  },
  {
   "cell_type": "markdown",
   "id": "9553e666",
   "metadata": {},
   "source": [
    "### Q2. How do you make instances and classes?"
   ]
  },
  {
   "cell_type": "markdown",
   "id": "3ada6d8d",
   "metadata": {},
   "source": [
    "- instance is made by calling the class and passing the required arguments.\n",
    "\n",
    "<br>\n",
    "\n",
    "- classes is made by the use of class keyword followed by class_name followed by colon. Inside it you can mention the class attribute or can initialize the object attribute or can have some methods."
   ]
  },
  {
   "cell_type": "code",
   "execution_count": 1,
   "id": "13141fc9",
   "metadata": {},
   "outputs": [],
   "source": [
    "# class :\n",
    "\n",
    "class Person:\n",
    "    \n",
    "    def __init__(self,name,age):\n",
    "        self.name = name\n",
    "        self.age = age"
   ]
  },
  {
   "cell_type": "code",
   "execution_count": 2,
   "id": "94c95058",
   "metadata": {},
   "outputs": [],
   "source": [
    "# class instance :\n",
    "\n",
    "person1 = Person('Jitin',26)"
   ]
  },
  {
   "cell_type": "markdown",
   "id": "e219c886",
   "metadata": {},
   "source": [
    "### Q3. Where and how should be class attributes created?"
   ]
  },
  {
   "cell_type": "markdown",
   "id": "17cfd747",
   "metadata": {},
   "source": [
    "- class attribute is created inside the class.\n",
    "\n",
    "<br>\n",
    "\n",
    "- it is just a variable which stores the value appropriate to the class."
   ]
  },
  {
   "cell_type": "code",
   "execution_count": 3,
   "id": "082f7e4e",
   "metadata": {},
   "outputs": [],
   "source": [
    "class Person:\n",
    "    \n",
    "    # class attribute :\n",
    "    gender = 'Male'"
   ]
  },
  {
   "cell_type": "markdown",
   "id": "20f4b6b1",
   "metadata": {},
   "source": [
    "### Q4. Where and how are instance attributes created?"
   ]
  },
  {
   "cell_type": "markdown",
   "id": "d799d24b",
   "metadata": {},
   "source": [
    "- instance attributes are created inside the init method.\n",
    "\n",
    "<br>\n",
    "\n",
    "- instance attributes are such attributes which defines the property of the instance"
   ]
  },
  {
   "cell_type": "code",
   "execution_count": null,
   "id": "2cb2f255",
   "metadata": {},
   "outputs": [],
   "source": [
    "# eg :\n",
    "\n",
    "class Person:\n",
    "    \n",
    "    def __init__(self,name,age):\n",
    "        # instance attributes :\n",
    "        self.name = name\n",
    "        self.age = age"
   ]
  },
  {
   "cell_type": "markdown",
   "id": "4bef2573",
   "metadata": {},
   "source": [
    "### Q5. What does the term &quot;self&quot; in a Python class mean?"
   ]
  },
  {
   "cell_type": "markdown",
   "id": "903ffcc7",
   "metadata": {},
   "source": [
    "- self is the argument passed inside every method inside the class which points to the instance of the class."
   ]
  },
  {
   "cell_type": "code",
   "execution_count": 4,
   "id": "b04d9cf5",
   "metadata": {},
   "outputs": [],
   "source": [
    "# eg :\n",
    "\n",
    "class Person:\n",
    "    \n",
    "    def walking(self):\n",
    "        return 'Person is walking!'"
   ]
  },
  {
   "cell_type": "markdown",
   "id": "a531c685",
   "metadata": {},
   "source": [
    "### Q6. How does a Python class handle operator overloading?"
   ]
  },
  {
   "cell_type": "markdown",
   "id": "0bfa1a50",
   "metadata": {},
   "source": [
    "- this can be done by the special methods or dunder methods."
   ]
  },
  {
   "cell_type": "markdown",
   "id": "1d5173a6",
   "metadata": {},
   "source": [
    "### Q7. When do you consider allowing operator overloading of your classes?"
   ]
  },
  {
   "cell_type": "markdown",
   "id": "5312e7c1",
   "metadata": {},
   "source": [
    "- Allowing operator overloading of classes can be consider when there is the need of changing the logic under the same name of the function."
   ]
  },
  {
   "cell_type": "markdown",
   "id": "0f0102a1",
   "metadata": {},
   "source": [
    "### Q8. What is the most popular form of operator overloading?"
   ]
  },
  {
   "cell_type": "markdown",
   "id": "878ab3c9",
   "metadata": {},
   "source": [
    "- addition : it adds two integer and it concatenates two strings also."
   ]
  },
  {
   "cell_type": "code",
   "execution_count": 5,
   "id": "2325ee3d",
   "metadata": {},
   "outputs": [
    {
     "name": "stdout",
     "output_type": "stream",
     "text": [
      "7\n",
      "Aryan Das\n"
     ]
    }
   ],
   "source": [
    "# eg :\n",
    "\n",
    "print(3 + 4)\n",
    "print('Aryan ' + 'Das')"
   ]
  },
  {
   "cell_type": "markdown",
   "id": "e6f3b7e7",
   "metadata": {},
   "source": [
    "### Q9. What are the two most important concepts to grasp in order to comprehend Python OOP code?"
   ]
  },
  {
   "cell_type": "markdown",
   "id": "ae8f4292",
   "metadata": {},
   "source": [
    "- inheritance and polymorphism is the fundamental concept of the oops."
   ]
  },
  {
   "cell_type": "code",
   "execution_count": 6,
   "id": "c6fefcef",
   "metadata": {},
   "outputs": [],
   "source": [
    "# eg of inheritance :\n",
    "\n",
    "class Person:\n",
    "    \n",
    "    def __init__(self,name):\n",
    "        self.name = name\n",
    "        \n",
    "class Student(Person):\n",
    "    \n",
    "    pass"
   ]
  },
  {
   "cell_type": "code",
   "execution_count": 8,
   "id": "a9ad95a6",
   "metadata": {},
   "outputs": [
    {
     "name": "stdout",
     "output_type": "stream",
     "text": [
      "9\n",
      "18\n"
     ]
    }
   ],
   "source": [
    "# eg of polymorphism :\n",
    "\n",
    "class Poly1:\n",
    "    \n",
    "    def operation(self,a,b):\n",
    "        return a + b\n",
    "    \n",
    "class Poly2:\n",
    "    \n",
    "    def operation(self,a,b):\n",
    "        return a*b\n",
    "    \n",
    "def func(obj,a,b):\n",
    "    print(obj.operation(a,b))\n",
    "    \n",
    "obj1 = Poly1()\n",
    "obj2 = Poly2()\n",
    "\n",
    "func(obj1,3,6)\n",
    "func(obj2,3,6)"
   ]
  }
 ],
 "metadata": {
  "kernelspec": {
   "display_name": "Python 3",
   "language": "python",
   "name": "python3"
  },
  "language_info": {
   "codemirror_mode": {
    "name": "ipython",
    "version": 3
   },
   "file_extension": ".py",
   "mimetype": "text/x-python",
   "name": "python",
   "nbconvert_exporter": "python",
   "pygments_lexer": "ipython3",
   "version": "3.8.8"
  },
  "varInspector": {
   "cols": {
    "lenName": 16,
    "lenType": 16,
    "lenVar": 40
   },
   "kernels_config": {
    "python": {
     "delete_cmd_postfix": "",
     "delete_cmd_prefix": "del ",
     "library": "var_list.py",
     "varRefreshCmd": "print(var_dic_list())"
    },
    "r": {
     "delete_cmd_postfix": ") ",
     "delete_cmd_prefix": "rm(",
     "library": "var_list.r",
     "varRefreshCmd": "cat(var_dic_list()) "
    }
   },
   "types_to_exclude": [
    "module",
    "function",
    "builtin_function_or_method",
    "instance",
    "_Feature"
   ],
   "window_display": false
  }
 },
 "nbformat": 4,
 "nbformat_minor": 5
}
